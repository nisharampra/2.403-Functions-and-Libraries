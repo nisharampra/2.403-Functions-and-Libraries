{
 "cells": [
  {
   "cell_type": "code",
   "execution_count": 2,
   "metadata": {},
   "outputs": [
    {
     "name": "stdout",
     "output_type": "stream",
     "text": [
      "8 is the highest\n"
     ]
    }
   ],
   "source": [
    "def printHighest(x, y):\n",
    "    if x > y:\n",
    "        print(x, \"is the highest\")\n",
    "    elif y > x:\n",
    "        print(y, \"is the highest\")\n",
    "    else:\n",
    "        print(\"Both values are equal\")\n",
    "\n",
    "# Example usage:\n",
    "printHighest(5, 8)\n"
   ]
  },
  {
   "cell_type": "markdown",
   "metadata": {},
   "source": [
    "Iterate through a given list, computing some basic statistics using an external library (e.g. SciPy).  \n",
    "Consider the following list:\n",
    "\n",
    "mylist = [\"2\", \"3\", \"5\", \"7\", \"11\", \"13\", \"17\"]\n",
    "\n",
    "## Step 1\n",
    "Compute the mean of the values in this list using libraries such as NumPy or statistics.\n",
    "\n",
    "\n"
   ]
  },
  {
   "cell_type": "markdown",
   "metadata": {},
   "source": [
    "## Step 2\n",
    "Compute the standard deviation utilising the same approach, but this time without the use of external libraries. \n"
   ]
  },
  {
   "cell_type": "markdown",
   "metadata": {},
   "source": [
    "Libraries are useful and save us lots of time, but there may not always be a case where a library is available for the job of work that we need to do. Be prepared to look for pre-made solutions but also to work with the tools that you have to solve problems!"
   ]
  },
  {
   "cell_type": "code",
   "execution_count": 3,
   "metadata": {},
   "outputs": [
    {
     "name": "stdout",
     "output_type": "stream",
     "text": [
      "Mean using NumPy: 8.285714285714286\n",
      "Standard Deviation without external libraries: 5.146823867043378\n"
     ]
    }
   ],
   "source": [
    "import numpy as np\n",
    "from statistics import mean, stdev\n",
    "\n",
    "mylist = [\"2\", \"3\", \"5\", \"7\", \"11\", \"13\", \"17\"]\n",
    "\n",
    "# Step 1: Compute the mean using NumPy\n",
    "mean_value = np.mean(list(map(float, mylist)))\n",
    "print(\"Mean using NumPy:\", mean_value)\n",
    "\n",
    "# Step 2: Compute the standard deviation without external libraries\n",
    "mylist_float = list(map(float, mylist))\n",
    "mean_without_lib = sum(mylist_float) / len(mylist_float)\n",
    "std_dev_value = (sum((x - mean_without_lib) ** 2 for x in mylist_float) / len(mylist_float)) ** 0.5\n",
    "print(\"Standard Deviation without external libraries:\", std_dev_value)\n"
   ]
  },
  {
   "cell_type": "markdown",
   "metadata": {},
   "source": [
    "In the next exercise we will be looking at the curious date/time construct. Programmers have argued for years about the best way to represent date and time. As numbers. Letters. Sometimes even as arbitrary timers from a specified \n",
    "time. We will have a look as to why it is such a tricky construct to deal with in the next lab exercise."
   ]
  }
 ],
 "metadata": {
  "kernelspec": {
   "display_name": "Python 3",
   "language": "python",
   "name": "python3"
  },
  "language_info": {
   "codemirror_mode": {
    "name": "ipython",
    "version": 3
   },
   "file_extension": ".py",
   "mimetype": "text/x-python",
   "name": "python",
   "nbconvert_exporter": "python",
   "pygments_lexer": "ipython3",
   "version": "3.7.6"
  }
 },
 "nbformat": 4,
 "nbformat_minor": 4
}
